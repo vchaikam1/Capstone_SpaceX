{
    "cells": [
        {
            "metadata": {},
            "cell_type": "code",
            "source": "import ibm_db\n#Replace the placeholder values with your actual Db2 hostname, username, and password:\ndsn_hostname = \"dashdb-txn-sbox-yp-dal09-14.services.dal.bluemix.net\" \ndsn_uid = \"frj14709\"        \ndsn_pwd = \"b+x7065bk25ckt4d\" \ndsn_driver = \"{IBM DB2 ODBC DRIVER}\"\ndsn_database = \"BLUDB\"            \ndsn_port = \"50000\"                \ndsn_protocol = \"TCPIP\"         \n\ndsn = (\n    \"DRIVER={0};\"\n    \"DATABASE={1};\"\n    \"HOSTNAME={2};\"\n    \"PORT={3};\"\n    \"PROTOCOL={4};\"\n    \"UID={5};\"\n    \"PWD={6};\").format(dsn_driver, dsn_database, dsn_hostname, dsn_port, dsn_protocol, dsn_uid, dsn_pwd)\n\n#print the connection string to check correct values are specified\n# print(dsn)\n\ntry:\n    conn = ibm_db.connect(dsn, \"\", \"\")\n    print (\"Connected to database: \", dsn_database, \"as user: \", dsn_uid, \"on host: \", dsn_hostname)\n\nexcept:\n    print (\"Unable to connect: \", ibm_db.conn_errormsg() )",
            "execution_count": 1,
            "outputs": [
                {
                    "output_type": "stream",
                    "text": "Connected to database:  BLUDB as user:  frj14709 on host:  dashdb-txn-sbox-yp-dal09-14.services.dal.bluemix.net\n",
                    "name": "stdout"
                }
            ]
        },
        {
            "metadata": {},
            "cell_type": "code",
            "source": "import pandas\nimport ibm_db_dbi\n#connection for pandas\npconn = ibm_db_dbi.Connection(conn)\n#query statement to retrieve all rows in INSTRUCTOR table\nselectQuery = \"select * from SPACEXTBL\"\n\n#retrieve the query results into a pandas dataframe\npdf = pandas.read_sql(selectQuery, pconn)\n\n#print the entire data frame\npdf",
            "execution_count": 2,
            "outputs": [
                {
                    "output_type": "execute_result",
                    "execution_count": 2,
                    "data": {
                        "text/plain": "           DATE TIME__UTC_ BOOSTER_VERSION   LAUNCH_SITE  \\\n0    2010-06-04   18:45:00  F9 v1.0  B0003   CCAFS LC-40   \n1    2010-12-08   15:43:00  F9 v1.0  B0004   CCAFS LC-40   \n2    2012-05-22   07:44:00  F9 v1.0  B0005   CCAFS LC-40   \n3    2012-10-08   00:35:00  F9 v1.0  B0006   CCAFS LC-40   \n4    2013-03-01   15:10:00  F9 v1.0  B0007   CCAFS LC-40   \n..          ...        ...             ...           ...   \n96   2020-11-05   23:24:23    F9 B5B1062.1  CCAFS SLC-40   \n97   2020-11-16   00:27:00    F9 B5B1061.1    KSC LC-39A   \n98   2020-11-21   17:17:08    F9 B5B1063.1   VAFB SLC-4E   \n99   2020-11-25   02:13:00   F9 B5 B1049.7  CCAFS SLC-40   \n100  2020-12-06   16:17:08   F9 B5 B1058.4    KSC LC-39A   \n\n                                               PAYLOAD  PAYLOAD_MASS__KG_  \\\n0                 Dragon Spacecraft Qualification Unit                  0   \n1    Dragon demo flight C1, two CubeSats, barrel of...                  0   \n2                                Dragon demo flight C2                525   \n3                                         SpaceX CRS-1                500   \n4                                         SpaceX CRS-2                677   \n..                                                 ...                ...   \n96                                 GPS III-04 , Crew-1               4311   \n97                Crew-1, Sentinel-6 Michael Freilich               12500   \n98      Sentinel-6 Michael Freilich, Starlink 15 v1.0                1192   \n99                     Starlink 15 v1.0, SpaceX CRS-21              15600   \n100                                      SpaceX CRS-21               2972   \n\n         ORBIT                      CUSTOMER MISSION_OUTCOME  \\\n0          LEO                        SpaceX         Success   \n1    LEO (ISS)               NASA (COTS) NRO         Success   \n2    LEO (ISS)                   NASA (COTS)         Success   \n3    LEO (ISS)                    NASA (CRS)         Success   \n4    LEO (ISS)                    NASA (CRS)         Success   \n..         ...                           ...             ...   \n96         MEO                          USSF         Success   \n97   LEO (ISS)                    NASA (CCP)         Success   \n98         LEO  NASA / NOAA / ESA / EUMETSAT         Success   \n99         LEO                        SpaceX         Success   \n100  LEO (ISS)                    NASA (CRS)         Success   \n\n        LANDING__OUTCOME  \n0    Failure (parachute)  \n1    Failure (parachute)  \n2             No attempt  \n3             No attempt  \n4             No attempt  \n..                   ...  \n96               Success  \n97               Success  \n98               Success  \n99               Success  \n100              Success  \n\n[101 rows x 10 columns]",
                        "text/html": "<div>\n<style scoped>\n    .dataframe tbody tr th:only-of-type {\n        vertical-align: middle;\n    }\n\n    .dataframe tbody tr th {\n        vertical-align: top;\n    }\n\n    .dataframe thead th {\n        text-align: right;\n    }\n</style>\n<table border=\"1\" class=\"dataframe\">\n  <thead>\n    <tr style=\"text-align: right;\">\n      <th></th>\n      <th>DATE</th>\n      <th>TIME__UTC_</th>\n      <th>BOOSTER_VERSION</th>\n      <th>LAUNCH_SITE</th>\n      <th>PAYLOAD</th>\n      <th>PAYLOAD_MASS__KG_</th>\n      <th>ORBIT</th>\n      <th>CUSTOMER</th>\n      <th>MISSION_OUTCOME</th>\n      <th>LANDING__OUTCOME</th>\n    </tr>\n  </thead>\n  <tbody>\n    <tr>\n      <th>0</th>\n      <td>2010-06-04</td>\n      <td>18:45:00</td>\n      <td>F9 v1.0  B0003</td>\n      <td>CCAFS LC-40</td>\n      <td>Dragon Spacecraft Qualification Unit</td>\n      <td>0</td>\n      <td>LEO</td>\n      <td>SpaceX</td>\n      <td>Success</td>\n      <td>Failure (parachute)</td>\n    </tr>\n    <tr>\n      <th>1</th>\n      <td>2010-12-08</td>\n      <td>15:43:00</td>\n      <td>F9 v1.0  B0004</td>\n      <td>CCAFS LC-40</td>\n      <td>Dragon demo flight C1, two CubeSats, barrel of...</td>\n      <td>0</td>\n      <td>LEO (ISS)</td>\n      <td>NASA (COTS) NRO</td>\n      <td>Success</td>\n      <td>Failure (parachute)</td>\n    </tr>\n    <tr>\n      <th>2</th>\n      <td>2012-05-22</td>\n      <td>07:44:00</td>\n      <td>F9 v1.0  B0005</td>\n      <td>CCAFS LC-40</td>\n      <td>Dragon demo flight C2</td>\n      <td>525</td>\n      <td>LEO (ISS)</td>\n      <td>NASA (COTS)</td>\n      <td>Success</td>\n      <td>No attempt</td>\n    </tr>\n    <tr>\n      <th>3</th>\n      <td>2012-10-08</td>\n      <td>00:35:00</td>\n      <td>F9 v1.0  B0006</td>\n      <td>CCAFS LC-40</td>\n      <td>SpaceX CRS-1</td>\n      <td>500</td>\n      <td>LEO (ISS)</td>\n      <td>NASA (CRS)</td>\n      <td>Success</td>\n      <td>No attempt</td>\n    </tr>\n    <tr>\n      <th>4</th>\n      <td>2013-03-01</td>\n      <td>15:10:00</td>\n      <td>F9 v1.0  B0007</td>\n      <td>CCAFS LC-40</td>\n      <td>SpaceX CRS-2</td>\n      <td>677</td>\n      <td>LEO (ISS)</td>\n      <td>NASA (CRS)</td>\n      <td>Success</td>\n      <td>No attempt</td>\n    </tr>\n    <tr>\n      <th>...</th>\n      <td>...</td>\n      <td>...</td>\n      <td>...</td>\n      <td>...</td>\n      <td>...</td>\n      <td>...</td>\n      <td>...</td>\n      <td>...</td>\n      <td>...</td>\n      <td>...</td>\n    </tr>\n    <tr>\n      <th>96</th>\n      <td>2020-11-05</td>\n      <td>23:24:23</td>\n      <td>F9 B5B1062.1</td>\n      <td>CCAFS SLC-40</td>\n      <td>GPS III-04 , Crew-1</td>\n      <td>4311</td>\n      <td>MEO</td>\n      <td>USSF</td>\n      <td>Success</td>\n      <td>Success</td>\n    </tr>\n    <tr>\n      <th>97</th>\n      <td>2020-11-16</td>\n      <td>00:27:00</td>\n      <td>F9 B5B1061.1</td>\n      <td>KSC LC-39A</td>\n      <td>Crew-1, Sentinel-6 Michael Freilich</td>\n      <td>12500</td>\n      <td>LEO (ISS)</td>\n      <td>NASA (CCP)</td>\n      <td>Success</td>\n      <td>Success</td>\n    </tr>\n    <tr>\n      <th>98</th>\n      <td>2020-11-21</td>\n      <td>17:17:08</td>\n      <td>F9 B5B1063.1</td>\n      <td>VAFB SLC-4E</td>\n      <td>Sentinel-6 Michael Freilich, Starlink 15 v1.0</td>\n      <td>1192</td>\n      <td>LEO</td>\n      <td>NASA / NOAA / ESA / EUMETSAT</td>\n      <td>Success</td>\n      <td>Success</td>\n    </tr>\n    <tr>\n      <th>99</th>\n      <td>2020-11-25</td>\n      <td>02:13:00</td>\n      <td>F9 B5 B1049.7</td>\n      <td>CCAFS SLC-40</td>\n      <td>Starlink 15 v1.0, SpaceX CRS-21</td>\n      <td>15600</td>\n      <td>LEO</td>\n      <td>SpaceX</td>\n      <td>Success</td>\n      <td>Success</td>\n    </tr>\n    <tr>\n      <th>100</th>\n      <td>2020-12-06</td>\n      <td>16:17:08</td>\n      <td>F9 B5 B1058.4</td>\n      <td>KSC LC-39A</td>\n      <td>SpaceX CRS-21</td>\n      <td>2972</td>\n      <td>LEO (ISS)</td>\n      <td>NASA (CRS)</td>\n      <td>Success</td>\n      <td>Success</td>\n    </tr>\n  </tbody>\n</table>\n<p>101 rows \u00d7 10 columns</p>\n</div>"
                    },
                    "metadata": {}
                }
            ]
        },
        {
            "metadata": {},
            "cell_type": "code",
            "source": "# Display the names of the unique launch sites in the space mission\nselectQuery = \"SELECT DISTINCT(LAUNCH_SITE) FROM SPACEXTBL;\"\n\n#retrieve the query results into a pandas dataframe\npdf = pandas.read_sql(selectQuery, pconn)\n\n#print the entire data frame\npdf",
            "execution_count": 3,
            "outputs": [
                {
                    "output_type": "execute_result",
                    "execution_count": 3,
                    "data": {
                        "text/plain": "    LAUNCH_SITE\n0   CCAFS LC-40\n1  CCAFS SLC-40\n2    KSC LC-39A\n3   VAFB SLC-4E",
                        "text/html": "<div>\n<style scoped>\n    .dataframe tbody tr th:only-of-type {\n        vertical-align: middle;\n    }\n\n    .dataframe tbody tr th {\n        vertical-align: top;\n    }\n\n    .dataframe thead th {\n        text-align: right;\n    }\n</style>\n<table border=\"1\" class=\"dataframe\">\n  <thead>\n    <tr style=\"text-align: right;\">\n      <th></th>\n      <th>LAUNCH_SITE</th>\n    </tr>\n  </thead>\n  <tbody>\n    <tr>\n      <th>0</th>\n      <td>CCAFS LC-40</td>\n    </tr>\n    <tr>\n      <th>1</th>\n      <td>CCAFS SLC-40</td>\n    </tr>\n    <tr>\n      <th>2</th>\n      <td>KSC LC-39A</td>\n    </tr>\n    <tr>\n      <th>3</th>\n      <td>VAFB SLC-4E</td>\n    </tr>\n  </tbody>\n</table>\n</div>"
                    },
                    "metadata": {}
                }
            ]
        },
        {
            "metadata": {},
            "cell_type": "code",
            "source": "# Display 5 records where launch sites begin with the string 'CCA' \nselectQuery = \"SELECT * FROM SPACEXTBL where LAUNCH_SITE like 'CCA%' LIMIT 5;\"\n\n#retrieve the query results into a pandas dataframe\npdf = pandas.read_sql(selectQuery, pconn)\n\n#print the entire data frame\npdf",
            "execution_count": 4,
            "outputs": [
                {
                    "output_type": "execute_result",
                    "execution_count": 4,
                    "data": {
                        "text/plain": "         DATE TIME__UTC_ BOOSTER_VERSION  LAUNCH_SITE  \\\n0  2010-06-04   18:45:00  F9 v1.0  B0003  CCAFS LC-40   \n1  2010-12-08   15:43:00  F9 v1.0  B0004  CCAFS LC-40   \n2  2012-05-22   07:44:00  F9 v1.0  B0005  CCAFS LC-40   \n3  2012-10-08   00:35:00  F9 v1.0  B0006  CCAFS LC-40   \n4  2013-03-01   15:10:00  F9 v1.0  B0007  CCAFS LC-40   \n\n                                             PAYLOAD  PAYLOAD_MASS__KG_  \\\n0               Dragon Spacecraft Qualification Unit                  0   \n1  Dragon demo flight C1, two CubeSats, barrel of...                  0   \n2                              Dragon demo flight C2                525   \n3                                       SpaceX CRS-1                500   \n4                                       SpaceX CRS-2                677   \n\n       ORBIT         CUSTOMER MISSION_OUTCOME     LANDING__OUTCOME  \n0        LEO           SpaceX         Success  Failure (parachute)  \n1  LEO (ISS)  NASA (COTS) NRO         Success  Failure (parachute)  \n2  LEO (ISS)      NASA (COTS)         Success           No attempt  \n3  LEO (ISS)       NASA (CRS)         Success           No attempt  \n4  LEO (ISS)       NASA (CRS)         Success           No attempt  ",
                        "text/html": "<div>\n<style scoped>\n    .dataframe tbody tr th:only-of-type {\n        vertical-align: middle;\n    }\n\n    .dataframe tbody tr th {\n        vertical-align: top;\n    }\n\n    .dataframe thead th {\n        text-align: right;\n    }\n</style>\n<table border=\"1\" class=\"dataframe\">\n  <thead>\n    <tr style=\"text-align: right;\">\n      <th></th>\n      <th>DATE</th>\n      <th>TIME__UTC_</th>\n      <th>BOOSTER_VERSION</th>\n      <th>LAUNCH_SITE</th>\n      <th>PAYLOAD</th>\n      <th>PAYLOAD_MASS__KG_</th>\n      <th>ORBIT</th>\n      <th>CUSTOMER</th>\n      <th>MISSION_OUTCOME</th>\n      <th>LANDING__OUTCOME</th>\n    </tr>\n  </thead>\n  <tbody>\n    <tr>\n      <th>0</th>\n      <td>2010-06-04</td>\n      <td>18:45:00</td>\n      <td>F9 v1.0  B0003</td>\n      <td>CCAFS LC-40</td>\n      <td>Dragon Spacecraft Qualification Unit</td>\n      <td>0</td>\n      <td>LEO</td>\n      <td>SpaceX</td>\n      <td>Success</td>\n      <td>Failure (parachute)</td>\n    </tr>\n    <tr>\n      <th>1</th>\n      <td>2010-12-08</td>\n      <td>15:43:00</td>\n      <td>F9 v1.0  B0004</td>\n      <td>CCAFS LC-40</td>\n      <td>Dragon demo flight C1, two CubeSats, barrel of...</td>\n      <td>0</td>\n      <td>LEO (ISS)</td>\n      <td>NASA (COTS) NRO</td>\n      <td>Success</td>\n      <td>Failure (parachute)</td>\n    </tr>\n    <tr>\n      <th>2</th>\n      <td>2012-05-22</td>\n      <td>07:44:00</td>\n      <td>F9 v1.0  B0005</td>\n      <td>CCAFS LC-40</td>\n      <td>Dragon demo flight C2</td>\n      <td>525</td>\n      <td>LEO (ISS)</td>\n      <td>NASA (COTS)</td>\n      <td>Success</td>\n      <td>No attempt</td>\n    </tr>\n    <tr>\n      <th>3</th>\n      <td>2012-10-08</td>\n      <td>00:35:00</td>\n      <td>F9 v1.0  B0006</td>\n      <td>CCAFS LC-40</td>\n      <td>SpaceX CRS-1</td>\n      <td>500</td>\n      <td>LEO (ISS)</td>\n      <td>NASA (CRS)</td>\n      <td>Success</td>\n      <td>No attempt</td>\n    </tr>\n    <tr>\n      <th>4</th>\n      <td>2013-03-01</td>\n      <td>15:10:00</td>\n      <td>F9 v1.0  B0007</td>\n      <td>CCAFS LC-40</td>\n      <td>SpaceX CRS-2</td>\n      <td>677</td>\n      <td>LEO (ISS)</td>\n      <td>NASA (CRS)</td>\n      <td>Success</td>\n      <td>No attempt</td>\n    </tr>\n  </tbody>\n</table>\n</div>"
                    },
                    "metadata": {}
                }
            ]
        },
        {
            "metadata": {},
            "cell_type": "code",
            "source": "# Display the total payload mass carried by boosters launched by NASA (CRS)\nselectQuery = \"SELECT SUM(PAYLOAD_MASS__KG_) FROM SPACEXTBL WHERE CUSTOMER = 'NASA (CRS)';\"\n\n#retrieve the query results into a pandas dataframe\npdf = pandas.read_sql(selectQuery, pconn)\n\n#print the entire data frame\npdf",
            "execution_count": 5,
            "outputs": [
                {
                    "output_type": "execute_result",
                    "execution_count": 5,
                    "data": {
                        "text/plain": "       1\n0  45596",
                        "text/html": "<div>\n<style scoped>\n    .dataframe tbody tr th:only-of-type {\n        vertical-align: middle;\n    }\n\n    .dataframe tbody tr th {\n        vertical-align: top;\n    }\n\n    .dataframe thead th {\n        text-align: right;\n    }\n</style>\n<table border=\"1\" class=\"dataframe\">\n  <thead>\n    <tr style=\"text-align: right;\">\n      <th></th>\n      <th>1</th>\n    </tr>\n  </thead>\n  <tbody>\n    <tr>\n      <th>0</th>\n      <td>45596</td>\n    </tr>\n  </tbody>\n</table>\n</div>"
                    },
                    "metadata": {}
                }
            ]
        },
        {
            "metadata": {},
            "cell_type": "code",
            "source": "# Display average payload mass carried by booster version F9 v1.1\nselectQuery = \"SELECT AVG(PAYLOAD_MASS__KG_) FROM SPACEXTBL WHERE BOOSTER_VERSION = 'F9 v1.1';\"\n\n#retrieve the query results into a pandas dataframe\npdf = pandas.read_sql(selectQuery, pconn)\n\n#print the entire data frame\npdf",
            "execution_count": 7,
            "outputs": [
                {
                    "output_type": "execute_result",
                    "execution_count": 7,
                    "data": {
                        "text/plain": "        1\n0  2928.4",
                        "text/html": "<div>\n<style scoped>\n    .dataframe tbody tr th:only-of-type {\n        vertical-align: middle;\n    }\n\n    .dataframe tbody tr th {\n        vertical-align: top;\n    }\n\n    .dataframe thead th {\n        text-align: right;\n    }\n</style>\n<table border=\"1\" class=\"dataframe\">\n  <thead>\n    <tr style=\"text-align: right;\">\n      <th></th>\n      <th>1</th>\n    </tr>\n  </thead>\n  <tbody>\n    <tr>\n      <th>0</th>\n      <td>2928.4</td>\n    </tr>\n  </tbody>\n</table>\n</div>"
                    },
                    "metadata": {}
                }
            ]
        },
        {
            "metadata": {},
            "cell_type": "code",
            "source": "# List the date when the first successful landing outcome in ground pad was acheived.\nselectQuery = \"SELECT MIN (DATE) FROM SPACEXTBL WHERE LANDING__OUTCOME = 'Success (ground pad)';\"\n\n#retrieve the query results into a pandas dataframe\npdf = pandas.read_sql(selectQuery, pconn)\n\n#print the entire data frame\npdf",
            "execution_count": 6,
            "outputs": [
                {
                    "output_type": "execute_result",
                    "execution_count": 6,
                    "data": {
                        "text/plain": "            1\n0  2015-12-22",
                        "text/html": "<div>\n<style scoped>\n    .dataframe tbody tr th:only-of-type {\n        vertical-align: middle;\n    }\n\n    .dataframe tbody tr th {\n        vertical-align: top;\n    }\n\n    .dataframe thead th {\n        text-align: right;\n    }\n</style>\n<table border=\"1\" class=\"dataframe\">\n  <thead>\n    <tr style=\"text-align: right;\">\n      <th></th>\n      <th>1</th>\n    </tr>\n  </thead>\n  <tbody>\n    <tr>\n      <th>0</th>\n      <td>2015-12-22</td>\n    </tr>\n  </tbody>\n</table>\n</div>"
                    },
                    "metadata": {}
                }
            ]
        },
        {
            "metadata": {},
            "cell_type": "code",
            "source": "#List the names of the boosters which have success in drone ship and have payload mass greater than 4000 but less than 6000\nselectQuery = \"SELECT  BOOSTER_VERSION FROM SPACEXTBL WHERE LANDING__OUTCOME = 'Success (drone ship)' and PAYLOAD_MASS__KG_ > 4000 AND PAYLOAD_MASS__KG_ < 6000;\"\n\n#retrieve the query results into a pandas dataframe\npdf = pandas.read_sql(selectQuery, pconn)\n\n#print the entire data frame\npdf\n",
            "execution_count": 7,
            "outputs": [
                {
                    "output_type": "execute_result",
                    "execution_count": 7,
                    "data": {
                        "text/plain": "  BOOSTER_VERSION\n0     F9 FT B1022\n1     F9 FT B1026\n2  F9 FT  B1021.2\n3  F9 FT  B1031.2",
                        "text/html": "<div>\n<style scoped>\n    .dataframe tbody tr th:only-of-type {\n        vertical-align: middle;\n    }\n\n    .dataframe tbody tr th {\n        vertical-align: top;\n    }\n\n    .dataframe thead th {\n        text-align: right;\n    }\n</style>\n<table border=\"1\" class=\"dataframe\">\n  <thead>\n    <tr style=\"text-align: right;\">\n      <th></th>\n      <th>BOOSTER_VERSION</th>\n    </tr>\n  </thead>\n  <tbody>\n    <tr>\n      <th>0</th>\n      <td>F9 FT B1022</td>\n    </tr>\n    <tr>\n      <th>1</th>\n      <td>F9 FT B1026</td>\n    </tr>\n    <tr>\n      <th>2</th>\n      <td>F9 FT  B1021.2</td>\n    </tr>\n    <tr>\n      <th>3</th>\n      <td>F9 FT  B1031.2</td>\n    </tr>\n  </tbody>\n</table>\n</div>"
                    },
                    "metadata": {}
                }
            ]
        },
        {
            "metadata": {},
            "cell_type": "code",
            "source": "# List the total number of successful and failure mission outcomes\n\n#List the names of the boosters which have success in drone ship and have payload mass greater than 4000 but less than 6000\nselectQuery = \"SELECT  COUNT(*) as SUCCSFUL FROM SPACEXTBL WHERE MISSION_OUTCOME  LIKE  '%Success%'\"\n#retrieve the query results into a pandas dataframe\npdf = pandas.read_sql(selectQuery, pconn)\n\n#print the entire data frame\npdf",
            "execution_count": 8,
            "outputs": [
                {
                    "output_type": "execute_result",
                    "execution_count": 8,
                    "data": {
                        "text/plain": "   SUCCSFUL\n0     100.0",
                        "text/html": "<div>\n<style scoped>\n    .dataframe tbody tr th:only-of-type {\n        vertical-align: middle;\n    }\n\n    .dataframe tbody tr th {\n        vertical-align: top;\n    }\n\n    .dataframe thead th {\n        text-align: right;\n    }\n</style>\n<table border=\"1\" class=\"dataframe\">\n  <thead>\n    <tr style=\"text-align: right;\">\n      <th></th>\n      <th>SUCCSFUL</th>\n    </tr>\n  </thead>\n  <tbody>\n    <tr>\n      <th>0</th>\n      <td>100.0</td>\n    </tr>\n  </tbody>\n</table>\n</div>"
                    },
                    "metadata": {}
                }
            ]
        },
        {
            "metadata": {},
            "cell_type": "code",
            "source": "# List the total number of successful and failure mission outcomes\n\nselectQuery = \"SELECT  COUNT(*) AS FAILURE FROM SPACEXTBL WHERE MISSION_OUTCOME  LIKE  'Fail%';\"\n#retrieve the query results into a pandas dataframe\npdf = pandas.read_sql(selectQuery, pconn)\n\n#print the entire data frame\npdf",
            "execution_count": 9,
            "outputs": [
                {
                    "output_type": "execute_result",
                    "execution_count": 9,
                    "data": {
                        "text/plain": "   FAILURE\n0      1.0",
                        "text/html": "<div>\n<style scoped>\n    .dataframe tbody tr th:only-of-type {\n        vertical-align: middle;\n    }\n\n    .dataframe tbody tr th {\n        vertical-align: top;\n    }\n\n    .dataframe thead th {\n        text-align: right;\n    }\n</style>\n<table border=\"1\" class=\"dataframe\">\n  <thead>\n    <tr style=\"text-align: right;\">\n      <th></th>\n      <th>FAILURE</th>\n    </tr>\n  </thead>\n  <tbody>\n    <tr>\n      <th>0</th>\n      <td>1.0</td>\n    </tr>\n  </tbody>\n</table>\n</div>"
                    },
                    "metadata": {}
                }
            ]
        },
        {
            "metadata": {},
            "cell_type": "code",
            "source": "# List the names of the booster_versions which have carried the maximum payload mass. Use a subquery\n\nselectQuery = \"SELECT  BOOSTER_VERSION, PAYLOAD_MASS__KG_ FROM SPACEXTBL WHERE PAYLOAD_MASS__KG_ = (SELECT MAX(PAYLOAD_MASS__KG_) FROM SPACEXTBL);\"\npdf = pandas.read_sql(selectQuery, pconn)\n\n#print the entire data frame\npdf\n",
            "execution_count": 10,
            "outputs": [
                {
                    "output_type": "execute_result",
                    "execution_count": 10,
                    "data": {
                        "text/plain": "   BOOSTER_VERSION  PAYLOAD_MASS__KG_\n0    F9 B5 B1048.4              15600\n1    F9 B5 B1049.4              15600\n2    F9 B5 B1051.3              15600\n3    F9 B5 B1056.4              15600\n4    F9 B5 B1048.5              15600\n5    F9 B5 B1051.4              15600\n6    F9 B5 B1049.5              15600\n7    F9 B5 B1060.2              15600\n8    F9 B5 B1058.3              15600\n9    F9 B5 B1051.6              15600\n10   F9 B5 B1060.3              15600\n11   F9 B5 B1049.7              15600",
                        "text/html": "<div>\n<style scoped>\n    .dataframe tbody tr th:only-of-type {\n        vertical-align: middle;\n    }\n\n    .dataframe tbody tr th {\n        vertical-align: top;\n    }\n\n    .dataframe thead th {\n        text-align: right;\n    }\n</style>\n<table border=\"1\" class=\"dataframe\">\n  <thead>\n    <tr style=\"text-align: right;\">\n      <th></th>\n      <th>BOOSTER_VERSION</th>\n      <th>PAYLOAD_MASS__KG_</th>\n    </tr>\n  </thead>\n  <tbody>\n    <tr>\n      <th>0</th>\n      <td>F9 B5 B1048.4</td>\n      <td>15600</td>\n    </tr>\n    <tr>\n      <th>1</th>\n      <td>F9 B5 B1049.4</td>\n      <td>15600</td>\n    </tr>\n    <tr>\n      <th>2</th>\n      <td>F9 B5 B1051.3</td>\n      <td>15600</td>\n    </tr>\n    <tr>\n      <th>3</th>\n      <td>F9 B5 B1056.4</td>\n      <td>15600</td>\n    </tr>\n    <tr>\n      <th>4</th>\n      <td>F9 B5 B1048.5</td>\n      <td>15600</td>\n    </tr>\n    <tr>\n      <th>5</th>\n      <td>F9 B5 B1051.4</td>\n      <td>15600</td>\n    </tr>\n    <tr>\n      <th>6</th>\n      <td>F9 B5 B1049.5</td>\n      <td>15600</td>\n    </tr>\n    <tr>\n      <th>7</th>\n      <td>F9 B5 B1060.2</td>\n      <td>15600</td>\n    </tr>\n    <tr>\n      <th>8</th>\n      <td>F9 B5 B1058.3</td>\n      <td>15600</td>\n    </tr>\n    <tr>\n      <th>9</th>\n      <td>F9 B5 B1051.6</td>\n      <td>15600</td>\n    </tr>\n    <tr>\n      <th>10</th>\n      <td>F9 B5 B1060.3</td>\n      <td>15600</td>\n    </tr>\n    <tr>\n      <th>11</th>\n      <td>F9 B5 B1049.7</td>\n      <td>15600</td>\n    </tr>\n  </tbody>\n</table>\n</div>"
                    },
                    "metadata": {}
                }
            ]
        },
        {
            "metadata": {},
            "cell_type": "code",
            "source": "# List the failed landing_outcomes in drone ship, their booster versions, and launch site names for in year 2015\nselectQuery = \"SELECT BOOSTER_VERSION, LAUNCH_SITE, LANDING__OUTCOME, YEAR(DATE) AS YR FROM SPACEXTBL WHERE LANDING__OUTCOME = 'Failure (drone ship)' AND YEAR(DATE) = '2015';\"\npdf = pandas.read_sql(selectQuery, pconn)\n\n#print the entire data frame\npdf\n",
            "execution_count": 16,
            "outputs": [
                {
                    "output_type": "execute_result",
                    "execution_count": 16,
                    "data": {
                        "text/plain": "  BOOSTER_VERSION  LAUNCH_SITE      LANDING__OUTCOME    YR\n0   F9 v1.1 B1012  CCAFS LC-40  Failure (drone ship)  2015\n1   F9 v1.1 B1015  CCAFS LC-40  Failure (drone ship)  2015",
                        "text/html": "<div>\n<style scoped>\n    .dataframe tbody tr th:only-of-type {\n        vertical-align: middle;\n    }\n\n    .dataframe tbody tr th {\n        vertical-align: top;\n    }\n\n    .dataframe thead th {\n        text-align: right;\n    }\n</style>\n<table border=\"1\" class=\"dataframe\">\n  <thead>\n    <tr style=\"text-align: right;\">\n      <th></th>\n      <th>BOOSTER_VERSION</th>\n      <th>LAUNCH_SITE</th>\n      <th>LANDING__OUTCOME</th>\n      <th>YR</th>\n    </tr>\n  </thead>\n  <tbody>\n    <tr>\n      <th>0</th>\n      <td>F9 v1.1 B1012</td>\n      <td>CCAFS LC-40</td>\n      <td>Failure (drone ship)</td>\n      <td>2015</td>\n    </tr>\n    <tr>\n      <th>1</th>\n      <td>F9 v1.1 B1015</td>\n      <td>CCAFS LC-40</td>\n      <td>Failure (drone ship)</td>\n      <td>2015</td>\n    </tr>\n  </tbody>\n</table>\n</div>"
                    },
                    "metadata": {}
                }
            ]
        },
        {
            "metadata": {},
            "cell_type": "code",
            "source": "# Rank the count of landing outcomes (such as Failure (drone ship) or Success (ground pad)) between the date 2010-06-04 and 2017-03-20, in descending order\n\nselectQuery = \"SELECT LANDING__OUTCOME, COUNT(LANDING__OUTCOME)AS LAND_CNT FROM SPACEXTBL WHERE DATE > '2010-06-04' AND DATE < '2017-03-20' GROUP BY(LANDING__OUTCOME) ORDER BY LAND_CNT;\" \npdf = pandas.read_sql(selectQuery, pconn)\n\n#print the entire data frame\npdf",
            "execution_count": 15,
            "outputs": [
                {
                    "output_type": "execute_result",
                    "execution_count": 15,
                    "data": {
                        "text/plain": "         LANDING__OUTCOME  LAND_CNT\n0     Failure (parachute)       1.0\n1  Precluded (drone ship)       1.0\n2    Uncontrolled (ocean)       2.0\n3      Controlled (ocean)       3.0\n4    Success (ground pad)       3.0\n5    Failure (drone ship)       5.0\n6    Success (drone ship)       5.0\n7              No attempt      10.0",
                        "text/html": "<div>\n<style scoped>\n    .dataframe tbody tr th:only-of-type {\n        vertical-align: middle;\n    }\n\n    .dataframe tbody tr th {\n        vertical-align: top;\n    }\n\n    .dataframe thead th {\n        text-align: right;\n    }\n</style>\n<table border=\"1\" class=\"dataframe\">\n  <thead>\n    <tr style=\"text-align: right;\">\n      <th></th>\n      <th>LANDING__OUTCOME</th>\n      <th>LAND_CNT</th>\n    </tr>\n  </thead>\n  <tbody>\n    <tr>\n      <th>0</th>\n      <td>Failure (parachute)</td>\n      <td>1.0</td>\n    </tr>\n    <tr>\n      <th>1</th>\n      <td>Precluded (drone ship)</td>\n      <td>1.0</td>\n    </tr>\n    <tr>\n      <th>2</th>\n      <td>Uncontrolled (ocean)</td>\n      <td>2.0</td>\n    </tr>\n    <tr>\n      <th>3</th>\n      <td>Controlled (ocean)</td>\n      <td>3.0</td>\n    </tr>\n    <tr>\n      <th>4</th>\n      <td>Success (ground pad)</td>\n      <td>3.0</td>\n    </tr>\n    <tr>\n      <th>5</th>\n      <td>Failure (drone ship)</td>\n      <td>5.0</td>\n    </tr>\n    <tr>\n      <th>6</th>\n      <td>Success (drone ship)</td>\n      <td>5.0</td>\n    </tr>\n    <tr>\n      <th>7</th>\n      <td>No attempt</td>\n      <td>10.0</td>\n    </tr>\n  </tbody>\n</table>\n</div>"
                    },
                    "metadata": {}
                }
            ]
        }
    ],
    "metadata": {
        "kernelspec": {
            "name": "python3",
            "display_name": "Python 3.8",
            "language": "python"
        },
        "language_info": {
            "name": "python",
            "version": "3.8.11",
            "mimetype": "text/x-python",
            "codemirror_mode": {
                "name": "ipython",
                "version": 3
            },
            "pygments_lexer": "ipython3",
            "nbconvert_exporter": "python",
            "file_extension": ".py"
        }
    },
    "nbformat": 4,
    "nbformat_minor": 1
}